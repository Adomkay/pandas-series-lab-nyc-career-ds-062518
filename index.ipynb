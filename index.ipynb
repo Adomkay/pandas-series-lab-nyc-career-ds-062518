{
 "cells": [
  {
   "cell_type": "markdown",
   "metadata": {},
   "source": [
    "# Pandas Series Lab\n",
    "\n",
    "## Exploring the Series Class in Pandas\n",
    "\n",
    "## Problem Statement\n",
    "\n",
    "In this lab, we'll get hands-on practice with the all the cool things the `Series` class in `pandas` has to offer!\n",
    "\n",
    "\n",
    "### Objectives\n",
    "\n",
    "1. Create a basic `Series` object and set the index. \n",
    "1. Use pandas to read in data and store in a `Series`  object.\n",
    "1. Gain familiarity with the basic functionality of series objects and the methods it contains.\n",
    "1. Create basic plots out of data stored in a pandas series.\n",
    "\n",
    "\n",
    "## Overview\n",
    "\n",
    "Data scientists use pandas for two main data types: **_Dataframes_** and **_Series_**.  In this lab, we'll explore the **_Series_** object "
   ]
  },
  {
   "cell_type": "code",
   "execution_count": null,
   "metadata": {},
   "outputs": [],
   "source": []
  }
 ],
 "metadata": {
  "kernelspec": {
   "display_name": "Python 3",
   "language": "python",
   "name": "python3"
  },
  "language_info": {
   "codemirror_mode": {
    "name": "ipython",
    "version": 3
   },
   "file_extension": ".py",
   "mimetype": "text/x-python",
   "name": "python",
   "nbconvert_exporter": "python",
   "pygments_lexer": "ipython3",
   "version": "3.6.4"
  }
 },
 "nbformat": 4,
 "nbformat_minor": 2
}
