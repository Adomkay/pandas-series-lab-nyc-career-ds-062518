{
 "cells": [
  {
   "cell_type": "markdown",
   "metadata": {},
   "source": [
    "# Pandas Series Lab\n",
    "\n",
    "## Exploring the Series Class in Pandas\n",
    "\n",
    "## Problem Statement\n",
    "\n",
    "In this lab, we'll get hands-on practice with the all the cool things the `Series` class in `pandas` has to offer!\n",
    "\n",
    "\n",
    "### Objectives\n",
    "\n",
    "1. Create a basic `Series` object and set the index. \n",
    "1. Use pandas to read in data and store in a `Series`  object.\n",
    "1. Gain familiarity with the basic functionality of series objects and the methods it contains.\n",
    "1. Create basic plots out of data stored in a pandas series.\n",
    "\n",
    "\n",
    "## Overview\n",
    "\n",
    "Data scientists use pandas for two main data types: **_Dataframes_** and **_Series_**.  In this lab, we'll explore the **_Series_** object.  \n",
    "\n",
    "As with anytime you find yourself working with an industry-standard library or framework, it's always a good idea to familiarize yourself with the documentation.  If you find yourself stuck during this lab, or you're just curious to the pandas `Series` class, take a look at the [pandas series docs](https://pandas.pydata.org/pandas-docs/stable/generated/pandas.Series.html)!\n",
    "\n",
    "We'll start by importing pandas library and aliasing it as `pd`--this is a typical convention you'll see anytime you work with pandas.  \n",
    "\n",
    "**Import `pandas` as `pd` in the cell below.**"
   ]
  },
  {
   "cell_type": "code",
   "execution_count": 1,
   "metadata": {},
   "outputs": [],
   "source": [
    "import pandas as pd\n",
    "import matplotlib.pyplot as plt\n",
    "%matplotlib inline"
   ]
  },
  {
   "cell_type": "markdown",
   "metadata": {},
   "source": [
    "### Creating Pandas Series \n",
    "\n",
    "We'll begin by exploring a couple different ways of creating pandas `Series` objects.  \n",
    "\n",
    "We can create an empty pandas series by instantiating a `Series()` object and storing it in a variable. \n",
    "\n",
    "For example:\n",
    "\n",
    "```python\n",
    "some_empty_series = pd.Series()\n",
    "```\n",
    "\n",
    "We can also create a Series and pass in the data during instantiation. \n",
    "\n",
    "```python\n",
    "example_series = pd.Series([1, 2, 3, 4])\n",
    "```\n",
    "Create an example series and pass in an array of numbers below.  "
   ]
  },
  {
   "cell_type": "code",
   "execution_count": 2,
   "metadata": {},
   "outputs": [
    {
     "data": {
      "text/plain": [
       "0    1\n",
       "1    2\n",
       "2    3\n",
       "3    4\n",
       "dtype: int64"
      ]
     },
     "execution_count": 2,
     "metadata": {},
     "output_type": "execute_result"
    }
   ],
   "source": [
    "example_series = pd.Series([1, 2, 3, 4])\n",
    "example_series"
   ]
  },
  {
   "cell_type": "markdown",
   "metadata": {},
   "source": [
    "Notice those numbers on the left? Those are **_index values_**, which we can use to access a specific value (or range of values).  For instance, if we wanted to get the value that is stored at index 1, we can use a slicing operator to get that value, just like a python list.  \n",
    "\n",
    "```python\n",
    "data_at_index_1 = example_series[1]\n",
    "```\n",
    "\n",
    "You can also access a range of data.  In the cell below, see if you access the range of data from index 1 to the end of the series. "
   ]
  },
  {
   "cell_type": "code",
   "execution_count": 3,
   "metadata": {},
   "outputs": [
    {
     "data": {
      "text/plain": [
       "1    2\n",
       "2    3\n",
       "3    4\n",
       "dtype: int64"
      ]
     },
     "execution_count": 3,
     "metadata": {},
     "output_type": "execute_result"
    }
   ],
   "source": [
    "range_of_data = example_series[1:]\n",
    "range_of_data"
   ]
  },
  {
   "cell_type": "markdown",
   "metadata": {},
   "source": [
    "### Data Types in Series Objects\n",
    "\n",
    "One way that pandas objects differs from vanilla python collections is the ability to handle multiple data types.  Recall that python lists are dynamically typed--we can create lists that hold multiple objects with different data types.  In pure python, something like:\n",
    "\n",
    "```python\n",
    "customer_info = ['Jane Doe', True, 32, 1337.00, [1, 2, 'a', 'b']]\n",
    "```\n",
    "\n",
    "is totally fine.  \n",
    "\n",
    "In pandas, everything is powered by **_numpy_**, so things work a little differently.  Pandas `Series` objects are backed by numpy arrays, which are **_statically typed_**, meaning that all data contained in the numpy array must be of the same data type.  \n",
    "\n",
    "So what happens when we pass in data to a Pandas series that contains multiple data types? Try it in the cell below and see what happens. Create a new pandas Series called customer_info_series, and pass in the python list in called `customer_info` in the list above. Then, access `customer_info_series` to see the values it contains, as well as the **_dtype_** (short for _data type_) everything is stored as."
   ]
  },
  {
   "cell_type": "code",
   "execution_count": 4,
   "metadata": {},
   "outputs": [
    {
     "data": {
      "text/plain": [
       "0        Jane Doe\n",
       "1            True\n",
       "2              32\n",
       "3            1337\n",
       "4    [1, 2, a, b]\n",
       "dtype: object"
      ]
     },
     "execution_count": 4,
     "metadata": {},
     "output_type": "execute_result"
    }
   ],
   "source": [
    "customer_info_series = pd.Series(['Jane Doe', True, 32, 1337.00, [1, 2, 'a', 'b']])\n",
    "\n",
    "customer_info_series"
   ]
  },
  {
   "cell_type": "markdown",
   "metadata": {},
   "source": [
    "As we can see from the cell above, all data has been cast to the **_object_** type, which is just how pandas labels strings.  This makes sense, if we think about it--all types of data can be cast to strings, so when pandas is faced with data containing multiple types, it just converts them all to strings before storing it in the `Series` object.  \n",
    "\n",
    " "
   ]
  },
  {
   "cell_type": "code",
   "execution_count": null,
   "metadata": {},
   "outputs": [],
   "source": []
  },
  {
   "cell_type": "markdown",
   "metadata": {},
   "source": [
    "## Working With the Index\n",
    "\n",
    "One handy trick that we can make use of is setting more informative values for the index.  This is something that we can do with both dataframes and series. \n",
    "\n",
    "One way we can set unique index values is to pass in the data as a dictionary when creating the `Series` object.  Pandas is smart enough to set the keys as the indices, and the values as the, uh, values. \n",
    "\n",
    "```python\n",
    "avg_temperature = {\n",
    "'March': 58,\n",
    "'April': 64,\n",
    "'May': 74,\n",
    "'June': 80,\n",
    "'July': 83\n",
    "}\n",
    "```\n",
    "\n",
    "In the cell below, create a pandas series and pass in the dictionary shown above.  Then, access the pandas series to see what it looks like."
   ]
  },
  {
   "cell_type": "code",
   "execution_count": 5,
   "metadata": {},
   "outputs": [],
   "source": [
    "avg_temperature = {\n",
    "'March': 58,\n",
    "'April': 64,\n",
    "'May': 74,\n",
    "'June': 80,\n",
    "'July': 83\n",
    "}\n",
    "\n",
    "temp_series = pd.Series(avg_temperature)"
   ]
  },
  {
   "cell_type": "markdown",
   "metadata": {},
   "source": [
    "As with any index, we can access the value by passing in the index.\n",
    "\n",
    "In the cell below, use the slicing operator on the `temp_series` object to get the value for 'April'.  Store the value in the april_temp variable."
   ]
  },
  {
   "cell_type": "code",
   "execution_count": 6,
   "metadata": {},
   "outputs": [
    {
     "data": {
      "text/plain": [
       "64"
      ]
     },
     "execution_count": 6,
     "metadata": {},
     "output_type": "execute_result"
    }
   ],
   "source": [
    "april_temp = temp_series['April']\n",
    "april_temp"
   ]
  },
  {
   "cell_type": "markdown",
   "metadata": {},
   "source": [
    "Even though our index values are now strings instead of numbers, we can still access a range of data.  In the cell below, try grabbing the temperature for April through June.  "
   ]
  },
  {
   "cell_type": "code",
   "execution_count": 7,
   "metadata": {},
   "outputs": [
    {
     "data": {
      "text/plain": [
       "April    64\n",
       "July     83\n",
       "June     80\n",
       "dtype: int64"
      ]
     },
     "execution_count": 7,
     "metadata": {},
     "output_type": "execute_result"
    }
   ],
   "source": [
    "april_to_june = temp_series['April':'June']\n",
    "april_to_june"
   ]
  },
  {
   "cell_type": "markdown",
   "metadata": {},
   "source": [
    "### Using Built-in Methods for Descriptive Statistics\n",
    "\n",
    "One of things that makes pandas a favorite tool of data scientists is all the built-in statistical tooling.  Since pandas wraps the numpy library, we have instant access to an amazing amount of math and statistics tools directly through pandas dataframes and series.  This saves us time and code.  \n",
    "\n",
    "Let's start by playing with some examples.\n",
    "\n",
    "If we wanted to get the mean of the data contained within a pandas series, we can call `.mean()` directly from the series object.  \n",
    "\n",
    "As a side note, the Jupyter notebook environment makes exploring the attributes and methods available to us really easy.  If we ever want to see the full list of attributes and methods we can access from an object, just type the name of the object, followed by a dot, and then hit tab.  \n",
    "\n",
    "See if you can find the correct methods to find the mean, median, and standard deviation of the data stored in the `temp_series` object.  Store each data in the appropriate variable below.\n"
   ]
  },
  {
   "cell_type": "code",
   "execution_count": 8,
   "metadata": {},
   "outputs": [
    {
     "name": "stdout",
     "output_type": "stream",
     "text": [
      "Mean Temperature: 71.8\n",
      "Median Temperature: 74.0\n",
      "Standard Deviation: 10.59245014149229\n"
     ]
    }
   ],
   "source": [
    "mean_temp = temp_series.mean()\n",
    "median_temp = temp_series.median()\n",
    "std_dev_temp = temp_series.std()\n",
    "\n",
    "print(\"Mean Temperature: {}\".format(mean_temp))\n",
    "print(\"Median Temperature: {}\".format(median_temp))\n",
    "print('Standard Deviation: {}'.format(std_dev_temp))"
   ]
  },
  {
   "cell_type": "markdown",
   "metadata": {},
   "source": [
    "### Real World Practice--Time Series Data\n",
    "\n",
    "One common use case for pandas `Series` objects is to store **_Time Series_** data.  For Time Series data, the most intuitive thing we can use for an index is a datetime, which would allow us to easily check the value of something at a given time. \n",
    "\n",
    "To finish up this lab, we'll read in some real time series data about the temperature in Central Park.  All together, we will:\n",
    "\n",
    "1. Read in the data stored in `weather_data_nyc.csv`.\n",
    "1. Store the data in a `Series`.\n",
    "1. Convert the timestamps from strings to datetimes\n",
    "1. Set the datetimes as the Series index.\n",
    "1. Explore our data with descriptive statistics.\n",
    "1. Plot our time series in a beautiful graph!\n",
    "\n",
    "Let's get started!\n",
    "\n",
    "### 1.  Read in the Data\n",
    "\n",
    "The data is stored in csv file called `weather_data_nyc.csv`.  Pandas makes it easy to read in data from many different types of data sources.  We can read in the data by calling `pd.read_csv()` and passing in the filename (or the path to the filename, if it's not stored in the same directory as the jupyter notebook we're working out of).  \n",
    "\n",
    "Read in the csv by passing the filename in the `.read_csv()` method call. Store the object that is returned in the `df` variable.  Then, access the `df` variable to see what data we've read in.  Pass in `names=['Date', 'Temp']` as a keyword argument after the filename to give our columns appropriate names, which will make it easier to access the data later on.  "
   ]
  },
  {
   "cell_type": "code",
   "execution_count": 9,
   "metadata": {},
   "outputs": [
    {
     "data": {
      "text/html": [
       "<div>\n",
       "<style scoped>\n",
       "    .dataframe tbody tr th:only-of-type {\n",
       "        vertical-align: middle;\n",
       "    }\n",
       "\n",
       "    .dataframe tbody tr th {\n",
       "        vertical-align: top;\n",
       "    }\n",
       "\n",
       "    .dataframe thead th {\n",
       "        text-align: right;\n",
       "    }\n",
       "</style>\n",
       "<table border=\"1\" class=\"dataframe\">\n",
       "  <thead>\n",
       "    <tr style=\"text-align: right;\">\n",
       "      <th></th>\n",
       "      <th>Date</th>\n",
       "      <th>Temp</th>\n",
       "    </tr>\n",
       "  </thead>\n",
       "  <tbody>\n",
       "    <tr>\n",
       "      <th>0</th>\n",
       "      <td>1/1/2016</td>\n",
       "      <td>38.0</td>\n",
       "    </tr>\n",
       "    <tr>\n",
       "      <th>1</th>\n",
       "      <td>1/2/2016</td>\n",
       "      <td>51.5</td>\n",
       "    </tr>\n",
       "    <tr>\n",
       "      <th>2</th>\n",
       "      <td>1/3/2016</td>\n",
       "      <td>45.5</td>\n",
       "    </tr>\n",
       "    <tr>\n",
       "      <th>3</th>\n",
       "      <td>1/4/2016</td>\n",
       "      <td>70.0</td>\n",
       "    </tr>\n",
       "    <tr>\n",
       "      <th>4</th>\n",
       "      <td>1/5/2016</td>\n",
       "      <td>48.0</td>\n",
       "    </tr>\n",
       "    <tr>\n",
       "      <th>5</th>\n",
       "      <td>1/6/2016</td>\n",
       "      <td>74.5</td>\n",
       "    </tr>\n",
       "    <tr>\n",
       "      <th>6</th>\n",
       "      <td>1/7/2016</td>\n",
       "      <td>72.5</td>\n",
       "    </tr>\n",
       "    <tr>\n",
       "      <th>7</th>\n",
       "      <td>1/8/2016</td>\n",
       "      <td>74.5</td>\n",
       "    </tr>\n",
       "    <tr>\n",
       "      <th>8</th>\n",
       "      <td>1/9/2016</td>\n",
       "      <td>74.0</td>\n",
       "    </tr>\n",
       "    <tr>\n",
       "      <th>9</th>\n",
       "      <td>1/10/2016</td>\n",
       "      <td>59.0</td>\n",
       "    </tr>\n",
       "    <tr>\n",
       "      <th>10</th>\n",
       "      <td>1/11/2016</td>\n",
       "      <td>49.0</td>\n",
       "    </tr>\n",
       "    <tr>\n",
       "      <th>11</th>\n",
       "      <td>1/12/2016</td>\n",
       "      <td>48.0</td>\n",
       "    </tr>\n",
       "    <tr>\n",
       "      <th>12</th>\n",
       "      <td>1/13/2016</td>\n",
       "      <td>26.0</td>\n",
       "    </tr>\n",
       "    <tr>\n",
       "      <th>13</th>\n",
       "      <td>1/14/2016</td>\n",
       "      <td>30.0</td>\n",
       "    </tr>\n",
       "    <tr>\n",
       "      <th>14</th>\n",
       "      <td>1/15/2016</td>\n",
       "      <td>42.5</td>\n",
       "    </tr>\n",
       "    <tr>\n",
       "      <th>15</th>\n",
       "      <td>1/16/2016</td>\n",
       "      <td>47.0</td>\n",
       "    </tr>\n",
       "    <tr>\n",
       "      <th>16</th>\n",
       "      <td>1/17/2016</td>\n",
       "      <td>36.0</td>\n",
       "    </tr>\n",
       "    <tr>\n",
       "      <th>17</th>\n",
       "      <td>1/18/2016</td>\n",
       "      <td>24.5</td>\n",
       "    </tr>\n",
       "    <tr>\n",
       "      <th>18</th>\n",
       "      <td>1/19/2016</td>\n",
       "      <td>22.0</td>\n",
       "    </tr>\n",
       "    <tr>\n",
       "      <th>19</th>\n",
       "      <td>1/20/2016</td>\n",
       "      <td>32.0</td>\n",
       "    </tr>\n",
       "    <tr>\n",
       "      <th>20</th>\n",
       "      <td>1/21/2016</td>\n",
       "      <td>31.0</td>\n",
       "    </tr>\n",
       "    <tr>\n",
       "      <th>21</th>\n",
       "      <td>1/22/2016</td>\n",
       "      <td>25.5</td>\n",
       "    </tr>\n",
       "    <tr>\n",
       "      <th>22</th>\n",
       "      <td>1/23/2016</td>\n",
       "      <td>25.5</td>\n",
       "    </tr>\n",
       "    <tr>\n",
       "      <th>23</th>\n",
       "      <td>1/24/2016</td>\n",
       "      <td>27.5</td>\n",
       "    </tr>\n",
       "    <tr>\n",
       "      <th>24</th>\n",
       "      <td>1/25/2016</td>\n",
       "      <td>33.5</td>\n",
       "    </tr>\n",
       "    <tr>\n",
       "      <th>25</th>\n",
       "      <td>1/26/2016</td>\n",
       "      <td>43.0</td>\n",
       "    </tr>\n",
       "    <tr>\n",
       "      <th>26</th>\n",
       "      <td>1/27/2016</td>\n",
       "      <td>40.5</td>\n",
       "    </tr>\n",
       "    <tr>\n",
       "      <th>27</th>\n",
       "      <td>1/28/2016</td>\n",
       "      <td>37.0</td>\n",
       "    </tr>\n",
       "    <tr>\n",
       "      <th>28</th>\n",
       "      <td>1/29/2016</td>\n",
       "      <td>35.5</td>\n",
       "    </tr>\n",
       "    <tr>\n",
       "      <th>29</th>\n",
       "      <td>1/30/2016</td>\n",
       "      <td>33.5</td>\n",
       "    </tr>\n",
       "    <tr>\n",
       "      <th>...</th>\n",
       "      <td>...</td>\n",
       "      <td>...</td>\n",
       "    </tr>\n",
       "    <tr>\n",
       "      <th>336</th>\n",
       "      <td>12/2/2016</td>\n",
       "      <td>21.0</td>\n",
       "    </tr>\n",
       "    <tr>\n",
       "      <th>337</th>\n",
       "      <td>12/3/2016</td>\n",
       "      <td>49.5</td>\n",
       "    </tr>\n",
       "    <tr>\n",
       "      <th>338</th>\n",
       "      <td>12/4/2016</td>\n",
       "      <td>52.0</td>\n",
       "    </tr>\n",
       "    <tr>\n",
       "      <th>339</th>\n",
       "      <td>12/5/2016</td>\n",
       "      <td>68.0</td>\n",
       "    </tr>\n",
       "    <tr>\n",
       "      <th>340</th>\n",
       "      <td>12/6/2016</td>\n",
       "      <td>72.5</td>\n",
       "    </tr>\n",
       "    <tr>\n",
       "      <th>341</th>\n",
       "      <td>12/7/2016</td>\n",
       "      <td>75.0</td>\n",
       "    </tr>\n",
       "    <tr>\n",
       "      <th>342</th>\n",
       "      <td>12/8/2016</td>\n",
       "      <td>83.0</td>\n",
       "    </tr>\n",
       "    <tr>\n",
       "      <th>343</th>\n",
       "      <td>12/9/2016</td>\n",
       "      <td>70.0</td>\n",
       "    </tr>\n",
       "    <tr>\n",
       "      <th>344</th>\n",
       "      <td>12/10/2016</td>\n",
       "      <td>59.5</td>\n",
       "    </tr>\n",
       "    <tr>\n",
       "      <th>345</th>\n",
       "      <td>12/11/2016</td>\n",
       "      <td>43.5</td>\n",
       "    </tr>\n",
       "    <tr>\n",
       "      <th>346</th>\n",
       "      <td>12/12/2016</td>\n",
       "      <td>40.0</td>\n",
       "    </tr>\n",
       "    <tr>\n",
       "      <th>347</th>\n",
       "      <td>12/13/2016</td>\n",
       "      <td>39.0</td>\n",
       "    </tr>\n",
       "    <tr>\n",
       "      <th>348</th>\n",
       "      <td>12/14/2016</td>\n",
       "      <td>38.0</td>\n",
       "    </tr>\n",
       "    <tr>\n",
       "      <th>349</th>\n",
       "      <td>12/15/2016</td>\n",
       "      <td>26.5</td>\n",
       "    </tr>\n",
       "    <tr>\n",
       "      <th>350</th>\n",
       "      <td>12/16/2016</td>\n",
       "      <td>22.0</td>\n",
       "    </tr>\n",
       "    <tr>\n",
       "      <th>351</th>\n",
       "      <td>12/17/2016</td>\n",
       "      <td>31.5</td>\n",
       "    </tr>\n",
       "    <tr>\n",
       "      <th>352</th>\n",
       "      <td>12/18/2016</td>\n",
       "      <td>44.5</td>\n",
       "    </tr>\n",
       "    <tr>\n",
       "      <th>353</th>\n",
       "      <td>12/19/2016</td>\n",
       "      <td>27.0</td>\n",
       "    </tr>\n",
       "    <tr>\n",
       "      <th>354</th>\n",
       "      <td>12/20/2016</td>\n",
       "      <td>26.5</td>\n",
       "    </tr>\n",
       "    <tr>\n",
       "      <th>355</th>\n",
       "      <td>12/21/2016</td>\n",
       "      <td>35.0</td>\n",
       "    </tr>\n",
       "    <tr>\n",
       "      <th>356</th>\n",
       "      <td>12/22/2016</td>\n",
       "      <td>43.0</td>\n",
       "    </tr>\n",
       "    <tr>\n",
       "      <th>357</th>\n",
       "      <td>12/23/2016</td>\n",
       "      <td>42.5</td>\n",
       "    </tr>\n",
       "    <tr>\n",
       "      <th>358</th>\n",
       "      <td>12/24/2016</td>\n",
       "      <td>42.5</td>\n",
       "    </tr>\n",
       "    <tr>\n",
       "      <th>359</th>\n",
       "      <td>12/25/2016</td>\n",
       "      <td>43.0</td>\n",
       "    </tr>\n",
       "    <tr>\n",
       "      <th>360</th>\n",
       "      <td>12/26/2016</td>\n",
       "      <td>41.5</td>\n",
       "    </tr>\n",
       "    <tr>\n",
       "      <th>361</th>\n",
       "      <td>12/27/2016</td>\n",
       "      <td>50.0</td>\n",
       "    </tr>\n",
       "    <tr>\n",
       "      <th>362</th>\n",
       "      <td>12/28/2016</td>\n",
       "      <td>37.0</td>\n",
       "    </tr>\n",
       "    <tr>\n",
       "      <th>363</th>\n",
       "      <td>12/29/2016</td>\n",
       "      <td>39.5</td>\n",
       "    </tr>\n",
       "    <tr>\n",
       "      <th>364</th>\n",
       "      <td>12/30/2016</td>\n",
       "      <td>36.5</td>\n",
       "    </tr>\n",
       "    <tr>\n",
       "      <th>365</th>\n",
       "      <td>12/31/2016</td>\n",
       "      <td>37.5</td>\n",
       "    </tr>\n",
       "  </tbody>\n",
       "</table>\n",
       "<p>366 rows × 2 columns</p>\n",
       "</div>"
      ],
      "text/plain": [
       "           Date  Temp\n",
       "0      1/1/2016  38.0\n",
       "1      1/2/2016  51.5\n",
       "2      1/3/2016  45.5\n",
       "3      1/4/2016  70.0\n",
       "4      1/5/2016  48.0\n",
       "5      1/6/2016  74.5\n",
       "6      1/7/2016  72.5\n",
       "7      1/8/2016  74.5\n",
       "8      1/9/2016  74.0\n",
       "9     1/10/2016  59.0\n",
       "10    1/11/2016  49.0\n",
       "11    1/12/2016  48.0\n",
       "12    1/13/2016  26.0\n",
       "13    1/14/2016  30.0\n",
       "14    1/15/2016  42.5\n",
       "15    1/16/2016  47.0\n",
       "16    1/17/2016  36.0\n",
       "17    1/18/2016  24.5\n",
       "18    1/19/2016  22.0\n",
       "19    1/20/2016  32.0\n",
       "20    1/21/2016  31.0\n",
       "21    1/22/2016  25.5\n",
       "22    1/23/2016  25.5\n",
       "23    1/24/2016  27.5\n",
       "24    1/25/2016  33.5\n",
       "25    1/26/2016  43.0\n",
       "26    1/27/2016  40.5\n",
       "27    1/28/2016  37.0\n",
       "28    1/29/2016  35.5\n",
       "29    1/30/2016  33.5\n",
       "..          ...   ...\n",
       "336   12/2/2016  21.0\n",
       "337   12/3/2016  49.5\n",
       "338   12/4/2016  52.0\n",
       "339   12/5/2016  68.0\n",
       "340   12/6/2016  72.5\n",
       "341   12/7/2016  75.0\n",
       "342   12/8/2016  83.0\n",
       "343   12/9/2016  70.0\n",
       "344  12/10/2016  59.5\n",
       "345  12/11/2016  43.5\n",
       "346  12/12/2016  40.0\n",
       "347  12/13/2016  39.0\n",
       "348  12/14/2016  38.0\n",
       "349  12/15/2016  26.5\n",
       "350  12/16/2016  22.0\n",
       "351  12/17/2016  31.5\n",
       "352  12/18/2016  44.5\n",
       "353  12/19/2016  27.0\n",
       "354  12/20/2016  26.5\n",
       "355  12/21/2016  35.0\n",
       "356  12/22/2016  43.0\n",
       "357  12/23/2016  42.5\n",
       "358  12/24/2016  42.5\n",
       "359  12/25/2016  43.0\n",
       "360  12/26/2016  41.5\n",
       "361  12/27/2016  50.0\n",
       "362  12/28/2016  37.0\n",
       "363  12/29/2016  39.5\n",
       "364  12/30/2016  36.5\n",
       "365  12/31/2016  37.5\n",
       "\n",
       "[366 rows x 2 columns]"
      ]
     },
     "execution_count": 9,
     "metadata": {},
     "output_type": "execute_result"
    }
   ],
   "source": [
    "df = pd.read_csv('weather_data_nyc.csv', names=['Date', 'Temp'])\n",
    "df"
   ]
  },
  {
   "cell_type": "markdown",
   "metadata": {},
   "source": [
    "### 2. Store the data in a Series.\n",
    "\n",
    "As it currently stands, the data is stored in a `DataFrame` object.  The data currently has two columns, which means that we can't store it in a series in it's current format.  However, any time we access a single column of data from a dataframe, that column is returned as a `Series` object.  \n",
    "\n",
    "In the cell below, slice the `Temp` column from the `df` object, and store the object that is returned inside the `temp_ts` variable.  \n",
    "\n",
    "Hint: We can access a column of data in a dataframe by using the following syntax:\n",
    "\n",
    "```python\n",
    "# Get data stored in 'Some_Column'\n",
    "df['Some_Column']\n",
    "```"
   ]
  },
  {
   "cell_type": "code",
   "execution_count": 10,
   "metadata": {},
   "outputs": [],
   "source": [
    "temp_ts = df['Temp']"
   ]
  },
  {
   "cell_type": "markdown",
   "metadata": {},
   "source": [
    "### 3. Convert Dates from String To Datetime Format\n",
    "\n",
    "Currently, the data stored within `df['Date']` is stored as a string.  However, we can see just by looking at it that these strings clearly represent datetimes. If we convert them over to an actual `datetime` type, then we'll have access to interesting functionality that we wouldn't have with just strings.  For instance, if we wanted to slice only the temperatures for January, we can do it like this:\n",
    "\n",
    "```python\n",
    "temp_ts['01-01-2016': '02-01-2016']\n",
    "```\n",
    "\n",
    "For this step, we'll start by getting a series of the data stored in `df['Date']` and storing it in `dates`.\n",
    "\n",
    "Then, we'll use the handy `pd.to_datetime()` method and pass in the `dates` variable, as well as the keyword argument `infer_datetime_format=True`.  Store the new datetime series this method returns inside the `dates` variable."
   ]
  },
  {
   "cell_type": "code",
   "execution_count": 17,
   "metadata": {},
   "outputs": [],
   "source": [
    "dates = df['Date']\n",
    "dates = pd.to_datetime(dates,  infer_datetime_format=True)"
   ]
  },
  {
   "cell_type": "markdown",
   "metadata": {},
   "source": [
    "### 4. Set the Dates as Index for Time Series\n",
    "\n",
    "That wasn't too hard! Now, we'll change the index of our `temp_ts` time series object from integers to the datetimes stored in `dates`.  This is easy to do--all we need to do is set the `.index` attribute of `temp_ts` equal to the `dates` variable.  \n",
    "\n",
    "Once you've set index to `dates`. go ahead and access the `temp_ts` series to verify that we've set the date correctly.  "
   ]
  },
  {
   "cell_type": "code",
   "execution_count": 20,
   "metadata": {},
   "outputs": [
    {
     "data": {
      "text/plain": [
       "Date\n",
       "2016-01-01    38.0\n",
       "2016-01-02    51.5\n",
       "2016-01-03    45.5\n",
       "2016-01-04    70.0\n",
       "2016-01-05    48.0\n",
       "2016-01-06    74.5\n",
       "2016-01-07    72.5\n",
       "2016-01-08    74.5\n",
       "2016-01-09    74.0\n",
       "2016-01-10    59.0\n",
       "2016-01-11    49.0\n",
       "2016-01-12    48.0\n",
       "2016-01-13    26.0\n",
       "2016-01-14    30.0\n",
       "2016-01-15    42.5\n",
       "2016-01-16    47.0\n",
       "2016-01-17    36.0\n",
       "2016-01-18    24.5\n",
       "2016-01-19    22.0\n",
       "2016-01-20    32.0\n",
       "2016-01-21    31.0\n",
       "2016-01-22    25.5\n",
       "2016-01-23    25.5\n",
       "2016-01-24    27.5\n",
       "2016-01-25    33.5\n",
       "2016-01-26    43.0\n",
       "2016-01-27    40.5\n",
       "2016-01-28    37.0\n",
       "2016-01-29    35.5\n",
       "2016-01-30    33.5\n",
       "              ... \n",
       "2016-12-02    21.0\n",
       "2016-12-03    49.5\n",
       "2016-12-04    52.0\n",
       "2016-12-05    68.0\n",
       "2016-12-06    72.5\n",
       "2016-12-07    75.0\n",
       "2016-12-08    83.0\n",
       "2016-12-09    70.0\n",
       "2016-12-10    59.5\n",
       "2016-12-11    43.5\n",
       "2016-12-12    40.0\n",
       "2016-12-13    39.0\n",
       "2016-12-14    38.0\n",
       "2016-12-15    26.5\n",
       "2016-12-16    22.0\n",
       "2016-12-17    31.5\n",
       "2016-12-18    44.5\n",
       "2016-12-19    27.0\n",
       "2016-12-20    26.5\n",
       "2016-12-21    35.0\n",
       "2016-12-22    43.0\n",
       "2016-12-23    42.5\n",
       "2016-12-24    42.5\n",
       "2016-12-25    43.0\n",
       "2016-12-26    41.5\n",
       "2016-12-27    50.0\n",
       "2016-12-28    37.0\n",
       "2016-12-29    39.5\n",
       "2016-12-30    36.5\n",
       "2016-12-31    37.5\n",
       "Name: Temp, Length: 366, dtype: float64"
      ]
     },
     "execution_count": 20,
     "metadata": {},
     "output_type": "execute_result"
    }
   ],
   "source": [
    "temp_ts.index = dates\n",
    "temp_ts"
   ]
  },
  {
   "cell_type": "markdown",
   "metadata": {},
   "source": [
    "### 5. Answer Descriptive Statistics Questions with Pandas\n",
    "\n",
    "Just for fun, let's try to answer some basic questions to give ourselves an excuse to practice working with pandas `Series` objects.  \n",
    "\n",
    "In the cell below, use pandas to find the answer to the following questions:\n",
    "\n",
    "1. What was the mode for the entire year?\n",
    "1. What was the average temperature in july?\n",
    "1. What was the median temperature in december?\n",
    "\n",
    "Be sure to store the answers in the appropriate variables below--don't change the names of the variables, or else the tests won't pass.  "
   ]
  },
  {
   "cell_type": "code",
   "execution_count": 22,
   "metadata": {},
   "outputs": [
    {
     "name": "stdout",
     "output_type": "stream",
     "text": [
      "Mode Temperature for 2016: 0    54.0\n",
      "dtype: float64\n",
      "Mean Temperature for July: 72.40322580645162\n",
      "Median Temperature for December: 41.5\n"
     ]
    }
   ],
   "source": [
    "year_mode = temp_ts.mode()\n",
    "mean_temp_july = temp_ts['07-01-2016':'07-31-2016'].mean()\n",
    "median_temp_december = temp_ts['12-01-2016':'12-31-2016'].median()\n",
    "\n",
    "print('Mode Temperature for 2016: {}'.format(year_mode))\n",
    "print('Mean Temperature for July: {}'.format(mean_temp_july))\n",
    "print('Median Temperature for December: {}'.format(median_temp_december))"
   ]
  },
  {
   "cell_type": "markdown",
   "metadata": {},
   "source": [
    "Expected Output:\n",
    "\n",
    "```Mode Temperature for 2016: 0    54.0\n",
    "dtype: float64\n",
    "Mean Temperature for July: 72.40322580645162\n",
    "Median Temperature for December: 41.5```\n",
    "\n",
    "### 6. Plot the Time Series\n",
    "\n",
    "Great job! We're almost done.  This last part is easy, but also really useful--we're going to plot our time series data as a graph, and it'll only take us one line of code to do it!\n",
    "\n",
    "Pandas also wraps the popular `matplotlib` visualization library, which gives all `DataFrame` and `Series` objects easy access to plotting and graphing functionality as attached methods. \n",
    "\n",
    "Descriptive statistics can be useful for answering specific questions about our data, but it doesn't give us the instant, intuitive understanding that a nice graph does.  Let's end this lab by plotting the daily temperature of Central Park for every day in 2016.  \n",
    "\n",
    "In order to plot this data, just call the `temp_ts` object's `.plot()` method!"
   ]
  },
  {
   "cell_type": "code",
   "execution_count": 23,
   "metadata": {},
   "outputs": [
    {
     "data": {
      "text/plain": [
       "<matplotlib.axes._subplots.AxesSubplot at 0x1fdfc4149e8>"
      ]
     },
     "execution_count": 23,
     "metadata": {},
     "output_type": "execute_result"
    },
    {
     "data": {
      "image/png": "[encoded data removed]",
      "text/plain": [
       "<matplotlib.figure.Figure at 0x1fdfc43bcc0>"
      ]
     },
     "metadata": {},
     "output_type": "display_data"
    }
   ],
   "source": [
    "temp_ts.plot()"
   ]
  },
  {
   "cell_type": "markdown",
   "metadata": {},
   "source": [
    "## Summary\n",
    "\n",
    "In this lab, we learned about to use the pandas `Series` object.  We learned how to create and store data inside of `Series` objects, and that data stored within a series is statically typed (must all be of the same data type), or else it will all be cast to strings.  We also learned about how to access data through the index, how to slice individual data points as well as ranges of data, and how to set the index values ourselves to make the data easier to read and understand.  Finally, we got some practice working with real-world time series data, answered questions about it using built-in methods for descriptive statistics, and even visualized our data with a nice time series plot. "
   ]
  }
 ],
 "metadata": {
  "kernelspec": {
   "display_name": "Python 3",
   "language": "python",
   "name": "python3"
  },
  "language_info": {
   "codemirror_mode": {
    "name": "ipython",
    "version": 3
   },
   "file_extension": ".py",
   "mimetype": "text/x-python",
   "name": "python",
   "nbconvert_exporter": "python",
   "pygments_lexer": "ipython3",
   "version": "3.6.4"
  }
 },
 "nbformat": 4,
 "nbformat_minor": 2
}
